{
  "nbformat": 4,
  "nbformat_minor": 0,
  "metadata": {
    "colab": {
      "name": "Discrete_Time_Kalman_Filter.ipynb",
      "provenance": [],
      "collapsed_sections": [],
      "authorship_tag": "ABX9TyMHVRezpNXEqEXwDF4Fuzo6",
      "include_colab_link": true
    },
    "kernelspec": {
      "name": "python3",
      "display_name": "Python 3"
    }
  },
  "cells": [
    {
      "cell_type": "markdown",
      "metadata": {
        "id": "view-in-github",
        "colab_type": "text"
      },
      "source": [
        "<a href=\"https://colab.research.google.com/github/PCR-git/Repo1/blob/master/Controls/Discrete_Time_Kalman_Filter.ipynb\" target=\"_parent\"><img src=\"https://colab.research.google.com/assets/colab-badge.svg\" alt=\"Open In Colab\"/></a>"
      ]
    },
    {
      "cell_type": "markdown",
      "metadata": {
        "id": "IHrQvPRs9zSW",
        "colab_type": "text"
      },
      "source": [
        "## MAE 271A - Final Project\n",
        "## Discrete-Time Kalman Filter\n",
        "### Peter Racioppo"
      ]
    },
    {
      "cell_type": "markdown",
      "metadata": {
        "id": "Tpg7sJ3f91SH",
        "colab_type": "text"
      },
      "source": [
        "### Introduction:"
      ]
    },
    {
      "cell_type": "markdown",
      "metadata": {
        "id": "4TvmSF0E9jjP",
        "colab_type": "text"
      },
      "source": [
        "##### Consider a vehicle accelerating in one dimension in an inertial frame. Assume that the acceleration is a harmonic of the form: 𝑎(𝑡) = 10∗sin(Ω𝑡) m/sec^2, where Ω = 0.1 rad/sec. Suppose that the acceleration is measured by an accelerometer with a sample rate of 50 Hz at sample times tj. The accelerometer is modeled with with additive white Gaussian noise 𝜔 with zero mean and variance W = 0.0001 (m/sec^2)^2. The accelerometer has a bias b with a priori statistics b ~ N(0,0.01 (m/sec^2)^2). The accelerometer ac is modeled as ac(tj) = a(tj)+b+𝜔(tj). A GPS receiver is used to measure position and velocity in an inertial space. The measurements, which are available at a 2 Hz rate (synchronized with the accelerometer), are zp(ti) = p(ti)+ηp(ti), zv(ti) = v(ti)+ηv(ti), where p(ti) is the position and v(ti) is the velocity at the measurement time ti. Their a priori statistics are x0 ~ N(0 m, (10 m)^2) and v0 ~ N(100 m/s, (1 m/s)^2). The additive measurement noises are assumed to be white noise sequences and independent of each other, with statistics [ηp(ti), ηv(ti)].T ~ N([0,0].T, [[1 m^2, 0], [0, (4 cm/s)^2]])."
      ]
    },
    {
      "cell_type": "markdown",
      "metadata": {
        "id": "j35HUEph98aN",
        "colab_type": "text"
      },
      "source": [
        "##### The truth model that is used as the simulation model is a(t) = a*sin(ωt), where a and ω are given above. By integrating the sine term we get the actual velocity v and position p as:\n",
        "##### v(t) = v(0) + a/ω − (a/ω)*cos(ωt)\n",
        "##### p(t) = p(0) + (v(0) + (a/ω))*t − (a/ω^2)*sin(ωt),           (Eq 1)\n",
        "##### where the statistics for the initial values of velocity v and position p are v(0) ∼ N(v0b, M0v) and p(0) ∼ N(p0b, M0p), respectively, with values of the mean and variance as given above."
      ]
    },
    {
      "cell_type": "markdown",
      "metadata": {
        "id": "afhYBDiU-Sen",
        "colab_type": "text"
      },
      "source": [
        "### The Accelerometer Model:"
      ]
    },
    {
      "cell_type": "markdown",
      "metadata": {
        "id": "K4TgpJWB-VFQ",
        "colab_type": "text"
      },
      "source": [
        "##### From the above, the accelerometer model is:\n",
        "##### ac(tj) = a(tj) + b + w(tj)                                              (Eq 2)\n",
        "##### where t_(j+1) − t_j = ∆t = 0.02 sec. The accelerometer integrates by an Euler formula as:\n",
        "##### vc(t_(j+1)) = vc(t_j) + ac_(t_j)*∆t,\n",
        "##### pc(t_(j+1)) = pc(t_j) + vc(t_j)*∆t + ac(t_j)*∆t^2/2,                   (Eq 3)\n",
        "##### with initial conditions vc(0) = v0b, pc(0) = p0b = 0."
      ]
    },
    {
      "cell_type": "markdown",
      "metadata": {
        "id": "ncABkErY-ktO",
        "colab_type": "text"
      },
      "source": [
        "### The Dynamic Model:"
      ]
    },
    {
      "cell_type": "markdown",
      "metadata": {
        "id": "yHiesUs_-mcb",
        "colab_type": "text"
      },
      "source": [
        "##### The objective is to make the system model for the Kalman filter independent of the actual acceleration a(t).\n",
        "##### We make the assumption that the actual or true acceleration is integrated by the same Euler integration formulaas the accelerometer, i.e.\n",
        "##### vE(t_(j+1)) = vE(t_j) + a(t_j)*∆t,\n",
        "##### pE(t_(j+1)) = pE(t_j) + vE(t_j)(∆t + a(t_j)*∆t^2/2,                                                              (4)\n",
        "##### with initial statistics v(0) = vE(0) ∼ N(v0b, M0v) and p(0) = pE(0) ∼ N(p0b, M0p).\n",
        "##### To obtain the dynamics for the Kalman filter, subtract (3) from (4) using (2) to obtain the dynamic equations whose coefficients are independent of the acceleration as:\n",
        "##### [δpE(t_(j+1)), δvE(t_(j+1)), b(t_(j+1))].T = [[1, ∆t, -∆t^2],[0, 1, -∆t],[0, 0, 1]]*[δpE(t_j), δvE(t_j), b(t_j)].T - [∆t^2/2, ∆t, 0].T * w(t_j), where:\n",
        "##### δpE(t0) = pE(t0) − pc(t0) ∼ N(0, M0p),\n",
        "##### δvE(t0) = vE(t0) − vc(t0) ∼ N(0, M0v),\n",
        "##### E[w(t_j)] = 0,   E(w(t_j)*w(t_l).T) = W*δ_(j,l),    b(0) ∼ N(0, M0b).\n",
        "##### The dynamic model coefficients are independent of the acceleration profile."
      ]
    },
    {
      "cell_type": "markdown",
      "metadata": {
        "id": "Od0WrMtl_Adf",
        "colab_type": "text"
      },
      "source": [
        "### Measurement Equations:"
      ]
    },
    {
      "cell_type": "markdown",
      "metadata": {
        "id": "jGEnSww6_D79",
        "colab_type": "text"
      },
      "source": [
        "##### The measurements are corrupted values of p(ti) and v(ti) as:\n",
        "##### zp(t_i) = p(t_i) + ηp(t_i),\n",
        "##### zv(t_i) = v(t_i) + ηv(t_i),\n",
        "##### where p(t_i) is the position and v(t_i) is the velocity at the measurement time t_i = t_(i−1) +40*∆t and the statistics of ηp(ti) and ηv(ti) are given above. To put the measurement equations in a convenient form to construct the Kalman filter, subtract the computed accelerometer position and velocity from the GPS measurements as:\n",
        "##### δzp(t_i) = δp(t_i) + ηp(t_i),\n",
        "##### δzv(t_i) = δv(t_i) + ηv(t_i),\n",
        "##### where δp(ti) = p(t_i) − pc(t_i) and δv(t_i) = v(t_i) − vc(t_i).\n",
        "##### Note that the GPS measures corrupted values of the actual position and velocity."
      ]
    },
    {
      "cell_type": "markdown",
      "metadata": {
        "id": "hCuQblLN_Mvs",
        "colab_type": "text"
      },
      "source": [
        "### Kalman Filtering:"
      ]
    },
    {
      "cell_type": "markdown",
      "metadata": {
        "id": "Xar4mO0C_Rr6",
        "colab_type": "text"
      },
      "source": [
        "##### Assume that the approximation can be made that δp(t_i) = δpE(t_i) and δv(t_i) = δvE(t_i). Based on the measurement equations and the dynamics, the approximate posteriori conditional mean δx(t_i) and the conditional posteriori error variance P(t_i) are computed in the Kalman filter algorithm where we define:\n",
        "##### δx_hat(t_i) = [δp_hat(t_i), δv_hat(t_i), b_hat(t_i)].T = [p_hat(t_i) - pc(t_i), v_hat(t_i) - vc(t_i), b_hat(t_i)].T\n",
        "##### Note that the state estimate is considered to be the estimate of the actual position and velocity, which is what the measurement uses."
      ]
    },
    {
      "cell_type": "markdown",
      "metadata": {
        "id": "fDN4jiN8_YDA",
        "colab_type": "text"
      },
      "source": [
        "### The System in Standard Form:"
      ]
    },
    {
      "cell_type": "markdown",
      "metadata": {
        "id": "oSVW0YM7_bte",
        "colab_type": "text"
      },
      "source": [
        "##### δx_(k+1) = Φk*xk + Γk*wk,\n",
        "##### δz_k = Hk*xk + vk, where:\n",
        "##### Φk = [[1, ∆t, -∆t^2],[0, 1, -∆t],[0, 0, 1]]\n",
        "##### Γ = [∆t^2,∆t,0].T\n",
        "##### H = [[1,0,0],[0,1,0]]\n",
        "##### V = [[1 0],[0 (4*10^-2)^2]]\n",
        "##### W = 0.0001\n",
        "##### M0 = [[Mp0,0,0],[0,Mv0,0],[0,0,Mb0]]"
      ]
    },
    {
      "cell_type": "markdown",
      "metadata": {
        "id": "OT0VECpO_hHV",
        "colab_type": "text"
      },
      "source": [
        "### The Kalman Filter Algorithm:"
      ]
    },
    {
      "cell_type": "markdown",
      "metadata": {
        "id": "DPo723J2_jp3",
        "colab_type": "text"
      },
      "source": [
        "##### Kk = Mk*Hk.T*(Hk*Mk*Hk.T + Vk)^-1 # Kalman Gain\n",
        "##### Pk = (I-Kk*Hk)*Mk*(I-Kk*Hk).T + Kk*Vk*Kk.T # A Posteri Covariance\n",
        "##### M_(k+1) = Φk*Pk*Φk.T + Γk*Wk*Γk.T\n",
        "##### δxb_(k+1) = Φk*δxhat_k\n",
        "##### δxhat_k = δxb_k + Kk*(Zk-Hk*δxb_k)"
      ]
    },
    {
      "cell_type": "markdown",
      "metadata": {
        "id": "32OPLdu6_pHm",
        "colab_type": "text"
      },
      "source": [
        "### Initializations:"
      ]
    },
    {
      "cell_type": "code",
      "metadata": {
        "id": "1K72wuGC-dWG",
        "colab_type": "code",
        "colab": {}
      },
      "source": [
        "# Imports\n",
        "import numpy as np\n",
        "from matplotlib import pyplot as plt"
      ],
      "execution_count": 0,
      "outputs": []
    },
    {
      "cell_type": "code",
      "metadata": {
        "id": "-G6L2SYR_rzB",
        "colab_type": "code",
        "colab": {}
      },
      "source": [
        "# System Parameters:\n",
        "\n",
        "# Oscillator properties:\n",
        "omega = 0.1 # Angular velocity (rad/sec)\n",
        "a = 10 # Magnitude of the oscillation\n",
        "\n",
        "# Accelerometer properties:\n",
        "fc = 50 # Accelerometer sample rate (Hz)\n",
        "tk = 1/fc # Sample time-step\n",
        "w_mu = 0 # Mean of additive Gaussian white noise\n",
        "W = 0.0001 # Variance of additive Gaussian white noise\n",
        "b_mu = 0 # Mean of accelerometer bias\n",
        "b_var = 0.01 # Variance of accelerometer bias\n",
        "b = np.random.normal(b_mu,np.sqrt(b_var)) # Accelerometer bias\n",
        "\n",
        "# GPS Properties:\n",
        "f_GPS = 2 # GPS sample rate (Hz)\n",
        "\n",
        "# Additive measurement noise statistics:\n",
        "etap_mu = 0 # Mean position measurement noise\n",
        "etav_mu = 0 # Mean velocity measurement noise\n",
        "etap_var = 1 # Variance of position measurement noise\n",
        "etav_var = 0.04**2 # Variance of velocity measurement noise"
      ],
      "execution_count": 0,
      "outputs": []
    },
    {
      "cell_type": "code",
      "metadata": {
        "id": "OvgHpYFUAEew",
        "colab_type": "code",
        "colab": {}
      },
      "source": [
        "# Time info:\n",
        "t0 = 0 # Start time\n",
        "tf = 30 # End time\n",
        "steps = int(tf/tk) # Number of time steps\n",
        "tvec = np.linspace(t0,tf,steps) # Time vector\n",
        "\n",
        "# Initial conditions:\n",
        "p0_mu = 0 # Mean initial position\n",
        "v0_mu = 100 # Mean initial velocity\n",
        "p0_var = 10**2 # Initial position variance\n",
        "v0_var = 1 # Initial velocity variance\n",
        "p0 = np.random.normal(p0_mu,np.sqrt(p0_var)) # Initial position\n",
        "v0 = np.random.normal(v0_mu,np.sqrt(v0_var)) # Initial velocity\n",
        "\n",
        "# Accelerometer initial conditions:\n",
        "pc_k = 0 # Initial position\n",
        "vc_k = 0 # Initial velocity"
      ],
      "execution_count": 0,
      "outputs": []
    },
    {
      "cell_type": "code",
      "metadata": {
        "id": "sBxNsHvOAGU2",
        "colab_type": "code",
        "colab": {}
      },
      "source": [
        "# Dynamic equation matrices:\n",
        "Phi = np.matrix([[1,tk,-(tk**2)/2],[0,1,-tk],[0,0,1]]) # State Matrix\n",
        "Gamma = -np.matrix([tk**2/2,tk,0]).T # Input Matrix\n",
        "H = np.matrix([[1,0,0],[0,1,0]]) # State-to-output matrix\n",
        "\n",
        "# Kalman Filter Initializations:\n",
        "V = np.matrix([[etap_var,0],[0, etav_var]]) # Measurement noise covariance matrix\n",
        "x_bar_k = np.matrix([p0_mu,v0_mu,b]).T # State vector mean\n",
        "dx_bar_k = np.matrix([0,0,b]).T # State vector mean\n",
        "# ratio = fc/f_GPS # Ratio of the two sample frequencies\n",
        "Mk = np.matrix([[100,0,0],[0,1,0],[0,0,0.01]]) # Initial step covariance\n",
        "I = np.identity(3) # Identity matrix"
      ],
      "execution_count": 0,
      "outputs": []
    },
    {
      "cell_type": "markdown",
      "metadata": {
        "id": "o-qhZKqNALJa",
        "colab_type": "text"
      },
      "source": [
        "### Dynamic Simulation:"
      ]
    },
    {
      "cell_type": "code",
      "metadata": {
        "id": "xljdWFXAAKZx",
        "colab_type": "code",
        "colab": {}
      },
      "source": [
        "# Dynamic simulation via Euler integration:\n",
        "def f_DynamicSim(steps,pc_k,vc_k,a,omega,tvec,v0,p0,w_mu,W,b,tk,etap_mu,etap_var,etav_mu,etav_var):\n",
        "    \n",
        "    # Intialize vectors:\n",
        "    p_vec  = np.zeros(steps)\n",
        "    v_vec  = np.zeros(steps)\n",
        "    a_vec  = np.zeros(steps)\n",
        "    pc_vec = np.zeros(steps)\n",
        "    vc_vec = np.zeros(steps)\n",
        "    ac_vec = np.zeros(steps)\n",
        "    zp_vec = np.zeros(steps)\n",
        "    zv_vec = np.zeros(steps)\n",
        "    dx_vec = np.zeros((3,steps))\n",
        "    \n",
        "    for k in np.arange(steps):\n",
        "        # Concatenating values to vectors:\n",
        "        pc_vec[k] = pc_k\n",
        "        vc_vec[k] = vc_k\n",
        "\n",
        "        # Kinematic equations:\n",
        "        a_k = a*np.sin(omega*tvec[k])\n",
        "        v_k = v0 + (a/omega)*(1-np.cos(omega*tvec[k]))\n",
        "        p_k = p0 + (v0+a/omega)*tvec[k] - (a/omega**2)*np.sin(omega*tvec[k])\n",
        "\n",
        "        # Accelerometer measurements:\n",
        "        w = np.random.normal(w_mu,np.sqrt(W)) # Additive noise at time t_k\n",
        "        ac_k = a_k + b + w # Accelerometer measurement\n",
        "\n",
        "        # Accelerometer kinematics:\n",
        "        # pc(t_(k+1)) = pc(t_k) + vc(t_k)*∆t + ac(t_k)*∆t^2/2,\n",
        "        # vc(t_(k+1)) = vc(t_k) + ac_(t_k)*∆t,\n",
        "        pc_k = pc_k + vc_k*tk + (ac_k/2)*(tk**2)\n",
        "        vc_k = vc_k + ac_k*tk\n",
        "\n",
        "        # Additive measurement noise in the GPS measurements:\n",
        "        etap_k = np.random.normal(etap_mu,np.sqrt(etap_var))\n",
        "        etav_k = np.random.normal(etav_mu,np.sqrt(etav_var))\n",
        "\n",
        "        # GPS measurements:\n",
        "        zp_k = p_k + etap_k\n",
        "        zv_k = v_k + etav_k\n",
        "        \n",
        "        # Adding values to vectors:\n",
        "        p_vec[k] = p_k\n",
        "        v_vec[k] = v_k\n",
        "        a_vec[k] = a_k\n",
        "        \n",
        "        pc_vec[k] = pc_k\n",
        "        vc_vec[k] = vc_k\n",
        "        ac_vec[k] = ac_k\n",
        "        \n",
        "        zp_vec[k] = zp_k\n",
        "        zv_vec[k] = zv_k\n",
        "        \n",
        "        dx_k = np.array([p_k - pc_k, v_k - vc_k, b]).T\n",
        "        dx_vec[:,k] = dx_k # State vector\n",
        "    \n",
        "    z = np.matrix([zp_vec,zv_vec]).T\n",
        "    dzp_vec = zp_vec - pc_vec\n",
        "    dzv_vec = zv_vec - vc_vec\n",
        "    dz = np.matrix([dzp_vec,dzv_vec])\n",
        "    \n",
        "    return(p_vec,v_vec,a_vec,pc_vec,vc_vec,ac_vec,zp_vec,zv_vec,z,dz,dx_vec)"
      ],
      "execution_count": 0,
      "outputs": []
    },
    {
      "cell_type": "code",
      "metadata": {
        "id": "WyOWWrUJANsD",
        "colab_type": "code",
        "colab": {}
      },
      "source": [
        "## Running the Dynamic Simulation:\n",
        "[p_vec,v_vec,a_vec,pc_vec,vc_vec,ac_vec,zp_vec,zv_vec,z,dz,dx_vec] = f_DynamicSim(steps,pc_k,vc_k,a,omega,tvec,v0,p0,w_mu,W,b,tk,etap_mu,etap_var,etav_mu,etav_var)"
      ],
      "execution_count": 0,
      "outputs": []
    },
    {
      "cell_type": "markdown",
      "metadata": {
        "id": "Ja5cX9MuAamC",
        "colab_type": "text"
      },
      "source": [
        "### Discrete Time Kalman Filter:"
      ]
    },
    {
      "cell_type": "code",
      "metadata": {
        "id": "14W4mpkbAPvd",
        "colab_type": "code",
        "colab": {}
      },
      "source": [
        "# Discrete-Time Kalman Filter:\n",
        "def f_KalmanFilter(Phi,Gamma,H,dz,V,dx_bar_k,tk,f_GPS,Mk,I,zp_vec,zv_vec):\n",
        "    dx_hat_vec = np.zeros((3,steps)) # Initialize vector of state vectors\n",
        "    Pk_vec = np.zeros((3,3,steps))\n",
        "       \n",
        "    # ----------------\n",
        "    K0 = np.matmul(np.matmul(Mk,H.T),np.linalg.inv(np.matmul(np.matmul(H,Mk),H.T) + V))\n",
        "    IKH0 = I - np.matmul(K0,H)\n",
        "    P0 = np.matmul(IKH0,np.matmul(Mk,IKH0.T)) + np.matmul(K0,np.matmul(V,K0.T))\n",
        "    M1 = np.matmul(Phi,np.matmul(P0,Phi.T)) + np.matmul(Gamma,W*Gamma.T)\n",
        "    K1 = np.matmul(np.matmul(M1,H.T),np.linalg.inv(np.matmul(np.matmul(H,M1),H.T) + V))\n",
        "    IKH1 = I - np.matmul(K1,H)\n",
        "    P1 = np.matmul(IKH1,np.matmul(M1,IKH1.T)) + np.matmul(K1,np.matmul(V,K1.T))\n",
        "    Mk = np.matmul(Phi,np.matmul(P1,Phi.T)) + np.matmul(Gamma,W*Gamma.T)\n",
        "    x_zero = np.matrix([100,1000,10]).T\n",
        "    dx_hat_k = x_zero\n",
        "    dx_bar_k = np.matmul(Phi,x_zero)\n",
        "    dx_hat_k = dx_bar_k + np.matmul(K1,(dz[:,0]) - np.matmul(H,dx_bar_k))\n",
        "    Kk = K1\n",
        "    \n",
        "    Hk = H\n",
        "                                  \n",
        "    for k in np.arange(steps-2)+2:\n",
        "#         # if np.mod(k+(ratio-1),ratio) == 0:\n",
        "#         if np.mod(tk*k*f_GPS,1) == 0:\n",
        "#             # When both the accelerometer and GPS are taking samples,\n",
        "#             # this data can be used in the Kalman filter.\n",
        "#             Hk = H\n",
        "#         else:\n",
        "#             # When only the accelerometer is taking samples,\n",
        "#             # the Kalman filter must make estimations without new measurements.\n",
        "#             Hk = 0*H\n",
        "            \n",
        "        # Kk = Mk*Hk.T*(Hk*Mk*Hk.T + Vk)^-1\n",
        "        Kk = np.matmul(np.matmul(Mk,Hk.T),np.linalg.inv(np.matmul(np.matmul(Hk,Mk),Hk.T) + V))\n",
        "        # Pk = (I-Kk*Hk)*Mk*(I-Kk*Hk).T + Kk*Vk*Kk.T\n",
        "        IKkHk = I - np.matmul(Kk,Hk)\n",
        "        Pk = np.matmul(IKkHk,np.matmul(Mk,IKkHk.T)) + np.matmul(Kk,np.matmul(V,Kk.T))\n",
        "        \n",
        "        dx_bar_k = np.matmul(Phi,dx_hat_k)\n",
        "        dx_hat_k = dx_bar_k + np.matmul(Kk,(dz[:,k] - np.matmul(Hk,dx_bar_k)))\n",
        "                                   \n",
        "#         # δxhat_k = δxb_k + Kk*(Zk-Hk*δxb_k)\n",
        "#         dx_hat_k = dx_bar_k + np.matmul(Kk,(dz[:,k] - np.matmul(Hk,dx_bar_k))) # Estimated state\n",
        "        dx_hat_vec[:,k] = np.array(dx_hat_k.T)[0] # Concatenate state vector at time t_k\n",
        "#         # δxb_(k+1) = Φk*δxhat_k\n",
        "#         dx_bar_k = np.matmul(Phi,dx_hat_k)\n",
        "                                  \n",
        "        # M_(k+1) = Φk*Pk*Φk.T + Γk*Wk*Γk.T\n",
        "        Mk = np.matmul(Phi,np.matmul(Pk,Phi.T)) + np.matmul(Gamma,W*Gamma.T)\n",
        "\n",
        "    dp_hat_vec = dx_hat_vec[0] # Vector of estimated dp's\n",
        "    dv_hat_vec = dx_hat_vec[1] # Vector of estimated dv's\n",
        "    b_hat_vec = dx_hat_vec[2] # Vector of estimated b's\n",
        "    p_hat_vec = dp_hat_vec + zp_vec # Vector of estimated p's\n",
        "    v_hat_vec = dv_hat_vec + zv_vec # Vector of estimated v's\n",
        "    Pk_vec[:,:,k] = Pk  \n",
        "    \n",
        "    return(dx_hat_vec,dp_hat_vec,dv_hat_vec,b_hat_vec,p_hat_vec,v_hat_vec,Pk_vec)"
      ],
      "execution_count": 0,
      "outputs": []
    },
    {
      "cell_type": "code",
      "metadata": {
        "id": "v7Hcwpr9AUUw",
        "colab_type": "code",
        "colab": {}
      },
      "source": [
        "# Running the Kalman Filter:\n",
        "[dx_hat_vec,dp_hat_vec,dv_hat_vec,b_hat_vec,p_hat_vec,v_hat_vec,Pk_vec] = f_KalmanFilter(Phi,Gamma,H,dz,V,dx_bar_k,tk,f_GPS,Mk,I,pc_vec,vc_vec)\n",
        "\n",
        "# Pulling components out of vectors\n",
        "dp_vec = dx_vec[0,:] # Vector of dp's\n",
        "dv_vec = dx_vec[1,:] # Vector of dv's\n",
        "dp_hat_vec = dx_hat_vec[0,:] # Vector of estimated dp's\n",
        "dv_hat_vec = dx_hat_vec[1,:] # Vector of estimated dv's\n",
        "b_hat_vec = dx_hat_vec[2,:] # Vector of estimated b's\n",
        "\n",
        "p_hat_vec = dp_hat_vec + pc_vec # Vector of estimated p's\n",
        "v_hat_vec = dv_hat_vec + vc_vec # Vector of estimated v's"
      ],
      "execution_count": 0,
      "outputs": []
    },
    {
      "cell_type": "code",
      "metadata": {
        "id": "9GFBoSdOAowM",
        "colab_type": "code",
        "outputId": "8a4aef25-67a2-4423-af8b-6e4210d7f603",
        "colab": {
          "base_uri": "https://localhost:8080/",
          "height": 573
        }
      },
      "source": [
        "plt.plot(tvec,a_vec,'b')\n",
        "plt.plot(tvec,ac_vec,'r--')\n",
        "plt.title(\"Acceleration\") # Plot title\n",
        "plt.xlabel(\"Time (sec)\") # x-axis label\n",
        "plt.ylabel(\"Acceleration (m/sec\\u00b2)\") # y-axis label\n",
        "plt.grid()\n",
        "plt.show()\n",
        "\n",
        "plt.plot(tvec,b*np.ones((steps)),'b')\n",
        "plt.plot(tvec,b_hat_vec,'r--')\n",
        "plt.title(\"Bias\") # Plot title\n",
        "plt.xlabel(\"Time (sec)\") # x-axis label\n",
        "plt.ylabel(\"Bias (m/sec\\u00b2)\") # y-axis label\n",
        "plt.grid()\n",
        "plt.show()"
      ],
      "execution_count": 0,
      "outputs": [
        {
          "output_type": "display_data",
          "data": {
            "image/png": "[encoded data removed]",
            "text/plain": [
              "<Figure size 432x288 with 1 Axes>"
            ]
          },
          "metadata": {
            "tags": []
          }
        },
        {
          "output_type": "display_data",
          "data": {
            "image/png": "[encoded data removed]",
            "text/plain": [
              "<Figure size 432x288 with 1 Axes>"
            ]
          },
          "metadata": {
            "tags": []
          }
        }
      ]
    },
    {
      "cell_type": "code",
      "metadata": {
        "id": "gUMOAe9YAqHL",
        "colab_type": "code",
        "outputId": "9fd3f134-ef18-40f5-c9c9-9b8fedfc5756",
        "colab": {
          "base_uri": "https://localhost:8080/",
          "height": 573
        }
      },
      "source": [
        "plt.plot(tvec,p_vec,'b')\n",
        "plt.plot(tvec,p_hat_vec,'r--')\n",
        "plt.title(\"Actual & Estimated Displacement\") # Plot title\n",
        "plt.xlabel(\"Time (sec)\") # x-axis label\n",
        "plt.ylabel(\"Displacement (m)\"); # y-axis label\n",
        "plt.grid()\n",
        "plt.show()\n",
        "\n",
        "plt.plot(tvec,v_vec,'b')\n",
        "plt.plot(tvec,v_hat_vec,'r--')\n",
        "plt.title(\"Actual & Estimated Velocity\") # Plot title\n",
        "plt.xlabel(\"Time (sec)\") # x-axis label\n",
        "plt.ylabel(\"Velocity (m/sec)\"); # y-axis label\n",
        "plt.grid()\n",
        "plt.show()"
      ],
      "execution_count": 0,
      "outputs": [
        {
          "output_type": "display_data",
          "data": {
            "image/png": "[encoded data removed]",
            "text/plain": [
              "<Figure size 432x288 with 1 Axes>"
            ]
          },
          "metadata": {
            "tags": []
          }
        },
        {
          "output_type": "display_data",
          "data": {
            "image/png": "[encoded data removed]",
            "text/plain": [
              "<Figure size 432x288 with 1 Axes>"
            ]
          },
          "metadata": {
            "tags": []
          }
        }
      ]
    },
    {
      "cell_type": "code",
      "metadata": {
        "id": "-gcMNCqVAsmc",
        "colab_type": "code",
        "outputId": "5bd9e9bd-1739-4ebb-99f6-0df74fd39c8e",
        "colab": {
          "base_uri": "https://localhost:8080/",
          "height": 265
        }
      },
      "source": [
        "# Acceleration Error\n",
        "plt.plot(tvec,a_vec-ac_vec,'r')\n",
        "plt.grid()"
      ],
      "execution_count": 0,
      "outputs": [
        {
          "output_type": "display_data",
          "data": {
            "image/png": "[encoded data removed]",
            "text/plain": [
              "<Figure size 432x288 with 1 Axes>"
            ]
          },
          "metadata": {
            "tags": []
          }
        }
      ]
    },
    {
      "cell_type": "code",
      "metadata": {
        "id": "d-vueQO9AuK6",
        "colab_type": "code",
        "outputId": "29dbea21-7fe9-4ace-c14d-fc78f22ca85a",
        "colab": {
          "base_uri": "https://localhost:8080/",
          "height": 265
        }
      },
      "source": [
        "# Velocity Error\n",
        "# plt.plot(tvec,v_vec-vc_vec,'b')\n",
        "plt.plot(tvec[1:],(v_vec-zv_vec)[1:],'r')\n",
        "plt.plot(tvec[1:],(v_vec-v_hat_vec)[1:],'k')\n",
        "plt.grid()\n",
        "plt.show()"
      ],
      "execution_count": 0,
      "outputs": [
        {
          "output_type": "display_data",
          "data": {
            "image/png": "[encoded data removed]",
            "text/plain": [
              "<Figure size 432x288 with 1 Axes>"
            ]
          },
          "metadata": {
            "tags": []
          }
        }
      ]
    },
    {
      "cell_type": "code",
      "metadata": {
        "id": "-eTtYaJzAviE",
        "colab_type": "code",
        "outputId": "79a44086-16fe-4365-e07b-d888ec6db27e",
        "colab": {
          "base_uri": "https://localhost:8080/",
          "height": 265
        }
      },
      "source": [
        "# Position Error\n",
        "# plt.plot(tvec,p_vec-pc_vec,'b')\n",
        "plt.plot(tvec[1:],(p_vec-zp_vec)[1:],'r')\n",
        "plt.plot(tvec[1:],(p_vec-p_hat_vec)[1:],'k')\n",
        "plt.grid()\n",
        "plt.show()"
      ],
      "execution_count": 0,
      "outputs": [
        {
          "output_type": "display_data",
          "data": {
            "image/png": "[encoded data removed]",
            "text/plain": [
              "<Figure size 432x288 with 1 Axes>"
            ]
          },
          "metadata": {
            "tags": []
          }
        }
      ]
    },
    {
      "cell_type": "code",
      "metadata": {
        "id": "y6HDDSwpAw0s",
        "colab_type": "code",
        "outputId": "de2ae828-d405-4910-b070-2accd4dc02ae",
        "colab": {
          "base_uri": "https://localhost:8080/",
          "height": 265
        }
      },
      "source": [
        "# Estimated velocity differences\n",
        "plt.plot(tvec[1:],dv_vec[1:],'b')\n",
        "plt.plot(tvec[1:],dv_hat_vec[1:],'r--')\n",
        "plt.grid()\n",
        "plt.show()"
      ],
      "execution_count": 0,
      "outputs": [
        {
          "output_type": "display_data",
          "data": {
            "image/png": "[encoded data removed]",
            "text/plain": [
              "<Figure size 432x288 with 1 Axes>"
            ]
          },
          "metadata": {
            "tags": []
          }
        }
      ]
    },
    {
      "cell_type": "code",
      "metadata": {
        "id": "l2KdTlaaAyoU",
        "colab_type": "code",
        "outputId": "6c909484-e8df-459a-c17b-9278b6c50891",
        "colab": {
          "base_uri": "https://localhost:8080/",
          "height": 265
        }
      },
      "source": [
        "# Estimated position differences\n",
        "plt.plot(tvec,dp_vec,'b')\n",
        "plt.plot(tvec,dp_hat_vec,'r--')\n",
        "plt.grid()\n",
        "plt.show()"
      ],
      "execution_count": 0,
      "outputs": [
        {
          "output_type": "display_data",
          "data": {
            "image/png": "[encoded data removed]",
            "text/plain": [
              "<Figure size 432x288 with 1 Axes>"
            ]
          },
          "metadata": {
            "tags": []
          }
        }
      ]
    },
    {
      "cell_type": "markdown",
      "metadata": {
        "id": "Cwa1ecHtBBOl",
        "colab_type": "text"
      },
      "source": [
        "### Generation of Checks to Validate the Kalman Filter Performance:"
      ]
    },
    {
      "cell_type": "markdown",
      "metadata": {
        "id": "cT8syLZ_BErb",
        "colab_type": "text"
      },
      "source": [
        "##### We first show that the actual error variance obtained directly from a Monte Carlo simulation is close to the error variance P(t_i) computed to form the Kalman gain. The Monte Carlo simulation computes an ensemble of realizations of the state δx(t_j) and state estimates δx(t_i). Define δx(t_j) as\n",
        "##### δx(t_j) = [δp(t_j), δv(t_j), b(t_j)].T = [p(t_j)-pc(t_j), v(t_j)-vc(t_j), b(t_j)].T,\n",
        "#### where p(t_j), v(t_j), and b(t_j) are from the truth model. The actual a priori estimation error is defined as\n",
        "##### e_bar(t_j) = δx(t_j) - δx_bar(tj) = [p(t_j)-pc(t_j), v(t_j)-vc(t_j), b(t_j)].T - [p_bar(t_j)-pc(t_j), v_bar(t_j)-vc(t_j), b_bar(t_j)].T\n",
        "##### = [p(t_j)-p_bar(t_j), v(t_j)-v_bar(t_j), b(t_j)-b_bar(t_j)].T,\n",
        "##### where a bar denotes the a priori estimate or estimation error propagated in the Kalman filter. However, at the measurement time t_i = t_j, e_bar(t_i) = δx(t_i) − δx_bar(t_i−) and the posteriori estimation error e(t_i) = δx(t_i) − δx_hat(t_i+), where t_i− means before the measurement update and t_i+ means after the measurement update."
      ]
    },
    {
      "cell_type": "markdown",
      "metadata": {
        "id": "nJaUyM3VBE0t",
        "colab_type": "text"
      },
      "source": [
        "##### A Monte Carlo simulation is to be constructed to find the ensemble averages over a set of realizations. Let el(t_i) represent the actual error for realization l. To obtain this realization, an initial condition for p(0), v(0), b  are generated from a Gaussian noise generator. The state estimate is determined from measurements where the measurement noise for ηp(t_i) and ηp(t_i) are generated at each measurement time t_i from a Gaussian noise generator. The process noise w(t_j) in the accelerometer model is generated at each propagation time t_j."
      ]
    },
    {
      "cell_type": "markdown",
      "metadata": {
        "id": "6hsP4O8VBE99",
        "colab_type": "text"
      },
      "source": [
        "##### The ensemble average of el(t_i) which produces the actual mean is e_ave(t_i) = (1/N_ave)*sum(el(t_i)), where N_ave, the number of realizations, should be large enough to produce good approximate statistics. It is expected that e_ave(t_i) ≈ 0 for all t_i ∈ [t0, tf]."
      ]
    },
    {
      "cell_type": "markdown",
      "metadata": {
        "id": "Yay1gikFBpD3",
        "colab_type": "text"
      },
      "source": [
        "##### Next, consider the ensemble average producing the actual error variance P_ave as\n",
        "##### P_ave(t_i) = (1/(N_ave-1))*sum([el(t_i) − e_ave(t_i)]*[el(t_i) − e_ave(t_i)].T),\n",
        "##### where N_ave − 1 is used for an unbiased variance from small sample theory. The matrix P_ave(t_i) should be close to P(t_i) computed in the Kalman filter algorithm, i.e. P_ave(t_i) − P (t_i) ≈ 0 for all t_i. This is an important check to verify that the modeling is approximately correct and the Kalman filter has been programmed correctly.\n",
        "\n",
        "##### Similarly, the orthogonality of the error in estimates with the estimate is checked by the average (1/N_ave)*sum([el(t_i)−e_ave(t)i)]*x_hat(t_i).T) ≈ 0 ∀ t_i."
      ]
    },
    {
      "cell_type": "markdown",
      "metadata": {
        "id": "sWxzUiRhBpAp",
        "colab_type": "text"
      },
      "source": [
        "##### Finally, the independence of the residuals are to be checked. The residual for a realization l is\n",
        "##### rl(t_i) = [δz_pl(t_i) − δz_bar_pl(t_i), δz_vl(t_i) − δz_bar_vl(t_i)].T.\n",
        "##### Then, the ensemble average for the correlation of the residuals is\n",
        "##### (1/N_ave)*sum(rl(t_i)*rl(t_m).T) ≈ 0 ∀ tm < ti."
      ]
    },
    {
      "cell_type": "code",
      "metadata": {
        "id": "GyEBGzr5A0nD",
        "colab_type": "code",
        "colab": {}
      },
      "source": [
        "# Monte Carlo Simulation\n",
        "def f_MonteCarlo(steps,pc_k,vc_k,a,omega,tvec,v0,p0,w_mu,W,etap_mu,etap_var,etav_mu,etav_var,Phi,Gamma,H,V,dx_bar_k,tk,f_GPS,Mk,I,pc_vec,vc_vec,N_ave,tm,ti,b_mu,b_var):\n",
        "    \n",
        "    sum_vec = 0\n",
        "    dz_summ = 0\n",
        "    dz_sumi = 0\n",
        "    el_vec_vec = np.zeros((3,steps,N_ave))\n",
        "    dx_hat_vec_vec = np.zeros((3,steps,N_ave))\n",
        "    dz_vec_vec = np.zeros((2,steps,N_ave))\n",
        "    \n",
        "    for n in np.arange(N_ave):\n",
        "\n",
        "        # Initial conditions\n",
        "        p0 = np.random.normal(p0_mu,np.sqrt(p0_var)) # Initial position\n",
        "        v0 = np.random.normal(v0_mu,np.sqrt(v0_var)) # Initial velocity\n",
        "        dz_vec = np.zeros((2,steps))\n",
        "        \n",
        "        # Accelerometer initial conditions\n",
        "        pc_k = p0_mu # Initial position\n",
        "        vc_k = v0_mu # Initial velocity\n",
        "        \n",
        "        b_n = np.random.normal(b_mu,np.sqrt(b_var)) # Accelerometer bias\n",
        "        x_bar_k = np.matrix([p0_mu,v0_mu,b_mu]).T # State vector mean\n",
        "        dx_bar_k = np.matrix([p0-p0_mu,v0-v0_mu,b_n-b_mu]).T # State vector mean\n",
        "\n",
        "        # Initializing vector of state vectors\n",
        "        el_vec = np.zeros((3,steps))\n",
        "        \n",
        "        [p_vec,v_vec,a_vec,pc_vec,vc_vec,ac_vec,zp_vec,zv_vec,z,dz,dx_vec] = f_DynamicSim(steps,pc_k,vc_k,a,omega,tvec,v0,p0,w_mu,W,b_n,tk,etap_mu,etap_var,etav_mu,etav_var)\n",
        "        [dx_hat_vec,dp_hat_vec,dv_hat_vec,b_hat_vec,p_hat_vec,v_hat_vec,Pk_vec] = f_KalmanFilter(Phi,Gamma,H,dz,V,dx_bar_k,tk,f_GPS,Mk,I,pc_vec,vc_vec)\n",
        "\n",
        "        el_vec = dx_vec - dx_hat_vec # Error for time t_k\n",
        "        \n",
        "        el_vec_vec[:,:,n] = el_vec\n",
        "        dx_hat_vec_vec[:,:,n] = dx_hat_vec\n",
        "        dz_vec_vec[:,:,n] = dz_vec\n",
        "        sum_vec = sum_vec + el_vec\n",
        "        dz_summ = dz_summ + dz_vec[:,tm]\n",
        "        dz_sumi = dz_sumi + dz_vec[:,ti]\n",
        "\n",
        "    e_ave_vec = sum_vec/N_ave\n",
        "    dz_avem = dz_summ/N_ave\n",
        "    dz_avei = dz_sumi/N_ave\n",
        "    \n",
        "    return(el_vec_vec,dx_hat_vec_vec,dz_vec_vec,e_ave_vec,dz_avem,dz_avei)"
      ],
      "execution_count": 0,
      "outputs": []
    },
    {
      "cell_type": "code",
      "metadata": {
        "id": "vdiYNi0ZB2l9",
        "colab_type": "code",
        "colab": {}
      },
      "source": [
        "N_ave = 10\n",
        "# tm = 5 # Random integer from [0 30]\n",
        "# ti = 25 # Random integer from [0 30], ti /= tm\n",
        "rand = np.random.choice(30, 2) # Random choice from np.arange(30) of size 2, without replacement\n",
        "tm = rand[0] # Random integer from [0 30]\n",
        "ti = rand[1] # Random integer from [0 30], ti /= tm\n",
        "\n",
        "# Run Monte Carlo simulation:\n",
        "[el_vec_vec,dx_hat_vec_vec,dz_vec_vec,e_ave_vec,dz_avem,dz_avei] = f_MonteCarlo(steps,pc_k,vc_k,a,omega,tvec,v0,p0,w_mu,W,etap_mu,etap_var,etav_mu,etav_var,Phi,Gamma,H,V,dx_bar_k,tk,f_GPS,Mk,I,pc_vec,vc_vec,N_ave,tm,ti,b_mu,b_var)"
      ],
      "execution_count": 0,
      "outputs": []
    },
    {
      "cell_type": "code",
      "metadata": {
        "id": "Yew842Z0B5cx",
        "colab_type": "code",
        "colab": {}
      },
      "source": [
        "# Pulling components out of vectors\n",
        "e_ave_p = e_ave_vec[0,:]\n",
        "e_ave_v = e_ave_vec[1,:]\n",
        "e_ave_b = e_ave_vec[2,:]"
      ],
      "execution_count": 0,
      "outputs": []
    },
    {
      "cell_type": "code",
      "metadata": {
        "id": "ZHAyArFRB8uo",
        "colab_type": "code",
        "outputId": "7f678565-cebe-464e-d918-ee85840bf925",
        "colab": {
          "base_uri": "https://localhost:8080/",
          "height": 265
        }
      },
      "source": [
        "# Monte Carlo errors\n",
        "plt.plot(tvec[1:],e_ave_p[1:],'k-')\n",
        "plt.plot(tvec[1:],e_ave_v[1:],'b-')\n",
        "plt.plot(tvec[1:],e_ave_b[1:],'r-')\n",
        "plt.grid()\n",
        "plt.show()"
      ],
      "execution_count": 0,
      "outputs": [
        {
          "output_type": "display_data",
          "data": {
            "image/png": "[encoded data removed]",
            "text/plain": [
              "<Figure size 432x288 with 1 Axes>"
            ]
          },
          "metadata": {
            "tags": []
          }
        }
      ]
    },
    {
      "cell_type": "code",
      "metadata": {
        "id": "8WEgTih_B-Rm",
        "colab_type": "code",
        "colab": {}
      },
      "source": [
        "# Difference of P matrices\n",
        "P_ave_vec = np.zeros((3,3,steps))\n",
        "Ortho_vec = np.zeros((3,3,steps))\n",
        "Ones = np.ones((3,steps,N_ave))\n",
        "Diff1 = el_vec_vec - e_ave_vec[:,:,np.newaxis]*Ones\n",
        "\n",
        "for k in np.arange(steps):\n",
        "    Sum1 = 0\n",
        "    Sum2 = 0\n",
        "    for n in np.arange(N_ave):\n",
        "        Summand1 = np.matmul(Diff1[:,k,n],(Diff1[:,k,n]).T)\n",
        "        Sum1 = Sum1 + Summand1\n",
        "        Summand2 = np.matmul(Diff1[:,k,n],(dx_hat_vec_vec[:,k,n]).T)\n",
        "        Sum2 = Sum2 + Summand2\n",
        "    P_avek = Sum1/(N_ave-1)\n",
        "    P_ave_vec[:,:,k] = P_avek\n",
        "    Orthok = Sum2/N_ave\n",
        "    Ortho_vec[:,:,k] = Orthok\n",
        "P_diff = P_ave_vec - Pk_vec"
      ],
      "execution_count": 0,
      "outputs": []
    },
    {
      "cell_type": "code",
      "metadata": {
        "id": "ZP6dLZShB_sc",
        "colab_type": "code",
        "colab": {}
      },
      "source": [
        "# Residuals\n",
        "Ones = np.ones((2,N_ave))\n",
        "rm = dz_vec_vec[:,tm,:] - dz_avem[:,np.newaxis]*Ones\n",
        "ri = dz_vec_vec[:,ti,:] - dz_avei[:,np.newaxis]*Ones\n",
        "Sum_residuals = 0\n",
        "for n in np.arange(N_ave):\n",
        "    ResProd = np.matmul(ri[:,n],rm[:,n].T)\n",
        "    Sum_residuals = Sum_residuals + ResProd\n",
        "\n",
        "ResAvg = Sum_residuals/N_ave"
      ],
      "execution_count": 0,
      "outputs": []
    },
    {
      "cell_type": "code",
      "metadata": {
        "id": "htVjxwPgCBEN",
        "colab_type": "code",
        "colab": {}
      },
      "source": [
        "#  Plots of the difference of the P matrices\n",
        "L = max(np.shape(P_diff))\n",
        "P_diff11 = np.reshape(P_diff[0,0,:],(L))\n",
        "P_diff12 = np.reshape(P_diff[0,1,:],(L))\n",
        "P_diff13 = np.reshape(P_diff[0,2,:],(L))\n",
        "P_diff21 = np.reshape(P_diff[1,0,:],(L))\n",
        "P_diff22 = np.reshape(P_diff[1,1,:],(L))\n",
        "P_diff23 = np.reshape(P_diff[1,2,:],(L))\n",
        "P_diff31 = np.reshape(P_diff[2,0,:],(L))\n",
        "P_diff32 = np.reshape(P_diff[2,1,:],(L))\n",
        "P_diff33 = np.reshape(P_diff[2,2,:],(L))"
      ],
      "execution_count": 0,
      "outputs": []
    },
    {
      "cell_type": "code",
      "metadata": {
        "id": "bTLRKiR8CEY2",
        "colab_type": "code",
        "outputId": "b3e15189-8763-4655-d886-4068a6a3781d",
        "colab": {
          "base_uri": "https://localhost:8080/",
          "height": 265
        }
      },
      "source": [
        "plt.subplot(3,3,1)\n",
        "plt.plot(tvec[1:],P_diff11[1:])\n",
        "plt.grid()\n",
        "plt.subplot(3,3,2)\n",
        "plt.plot(tvec[1:],P_diff12[1:])\n",
        "plt.grid()\n",
        "plt.subplot(3,3,3)\n",
        "plt.plot(tvec[1:],P_diff13[1:])\n",
        "plt.grid()\n",
        "plt.subplot(3,3,4)\n",
        "plt.plot(tvec[1:],P_diff21[1:])\n",
        "plt.grid()\n",
        "plt.subplot(3,3,5)\n",
        "plt.plot(tvec[1:],P_diff22[1:])\n",
        "plt.grid()\n",
        "plt.subplot(3,3,6)\n",
        "plt.plot(tvec[1:],P_diff23[1:])\n",
        "plt.grid()\n",
        "plt.subplot(3,3,7)\n",
        "plt.plot(tvec[1:],P_diff31[1:])\n",
        "plt.grid()\n",
        "plt.subplot(3,3,8)\n",
        "plt.plot(tvec[1:],P_diff32[1:])\n",
        "plt.grid()\n",
        "plt.subplot(3,3,9)\n",
        "plt.plot(tvec[1:],P_diff33[1:])\n",
        "plt.grid()\n",
        "plt.show()"
      ],
      "execution_count": 0,
      "outputs": [
        {
          "output_type": "display_data",
          "data": {
            "image/png": "[encoded data removed]",
            "text/plain": [
              "<Figure size 432x288 with 9 Axes>"
            ]
          },
          "metadata": {
            "tags": []
          }
        }
      ]
    },
    {
      "cell_type": "code",
      "metadata": {
        "id": "zvEfKBNxCFzl",
        "colab_type": "code",
        "colab": {}
      },
      "source": [
        "# Orthogonality Plots\n",
        "\n",
        "L = max(np.shape(Ortho_vec))\n",
        "Ortho11 = np.reshape(Ortho_vec[0,0,:],(L))\n",
        "Ortho12 = np.reshape(Ortho_vec[0,1,:],(L))\n",
        "Ortho13 = np.reshape(Ortho_vec[0,2,:],(L))\n",
        "Ortho21 = np.reshape(Ortho_vec[1,0,:],(L))\n",
        "Ortho22 = np.reshape(Ortho_vec[1,1,:],(L))\n",
        "Ortho23 = np.reshape(Ortho_vec[1,2,:],(L))\n",
        "Ortho31 = np.reshape(Ortho_vec[2,0,:],(L))\n",
        "Ortho32 = np.reshape(Ortho_vec[2,1,:],(L))\n",
        "Ortho33 = np.reshape(Ortho_vec[2,2,:],(L))"
      ],
      "execution_count": 0,
      "outputs": []
    },
    {
      "cell_type": "code",
      "metadata": {
        "id": "eKX5AQuKCHOB",
        "colab_type": "code",
        "outputId": "64b8ba03-65e9-4827-e572-5e3d4ffa682d",
        "colab": {
          "base_uri": "https://localhost:8080/",
          "height": 265
        }
      },
      "source": [
        "plt.subplot(3,3,1)\n",
        "plt.plot(tvec,Ortho11)\n",
        "plt.grid()\n",
        "plt.subplot(3,3,2)\n",
        "plt.plot(tvec,Ortho12)\n",
        "plt.grid()\n",
        "plt.subplot(3,3,3)\n",
        "plt.plot(tvec,Ortho13)\n",
        "plt.grid()\n",
        "plt.subplot(3,3,4)\n",
        "plt.plot(tvec,Ortho21)\n",
        "plt.grid()\n",
        "plt.subplot(3,3,5)\n",
        "plt.plot(tvec,Ortho22)\n",
        "plt.grid()\n",
        "plt.subplot(3,3,6)\n",
        "plt.plot(tvec,Ortho23)\n",
        "plt.grid()\n",
        "plt.subplot(3,3,7)\n",
        "plt.plot(tvec,Ortho31)\n",
        "plt.grid()\n",
        "plt.subplot(3,3,8)\n",
        "plt.plot(tvec,Ortho32)\n",
        "plt.grid()\n",
        "plt.subplot(3,3,9)\n",
        "plt.plot(tvec,Ortho33)\n",
        "plt.grid()\n",
        "plt.show()"
      ],
      "execution_count": 0,
      "outputs": [
        {
          "output_type": "display_data",
          "data": {
            "image/png": "[encoded data removed]",
            "text/plain": [
              "<Figure size 432x288 with 9 Axes>"
            ]
          },
          "metadata": {
            "tags": []
          }
        }
      ]
    }
  ]
}